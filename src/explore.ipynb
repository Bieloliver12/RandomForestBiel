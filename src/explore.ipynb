{
    "cells": [
        {
            "cell_type": "markdown",
            "metadata": {},
            "source": [
                "# Explore here"
            ]
        },
        {
            "cell_type": "code",
            "execution_count": 23,
            "metadata": {},
            "outputs": [],
            "source": [
                "# Your code here\n",
                "from sklearn.datasets import load_breast_cancer\n",
                "from sklearn.model_selection import train_test_split, GridSearchCV\n",
                "from sklearn.ensemble import RandomForestClassifier\n",
                "from sklearn.metrics import classification_report, accuracy_score\n",
                "import numpy as np\n",
                "from numpy.random import seed, choice\n",
                "from sklearn.tree import DecisionTreeClassifier\n",
                "from collections import Counter\n",
                "from sklearn.metrics import *\n",
                "from imblearn.metrics import specificity_score\n",
                "import pandas as pd\n",
                "import matplotlib as plt\n",
                "import seaborn as sns"
            ]
        },
        {
            "cell_type": "code",
            "execution_count": null,
            "metadata": {},
            "outputs": [
                {
                    "data": {
                        "text/html": [
                            "<div>\n",
                            "<style scoped>\n",
                            "    .dataframe tbody tr th:only-of-type {\n",
                            "        vertical-align: middle;\n",
                            "    }\n",
                            "\n",
                            "    .dataframe tbody tr th {\n",
                            "        vertical-align: top;\n",
                            "    }\n",
                            "\n",
                            "    .dataframe thead th {\n",
                            "        text-align: right;\n",
                            "    }\n",
                            "</style>\n",
                            "<table border=\"1\" class=\"dataframe\">\n",
                            "  <thead>\n",
                            "    <tr style=\"text-align: right;\">\n",
                            "      <th></th>\n",
                            "      <th>Pregnancies</th>\n",
                            "      <th>Glucose</th>\n",
                            "      <th>BloodPressure</th>\n",
                            "      <th>SkinThickness</th>\n",
                            "      <th>Insulin</th>\n",
                            "      <th>BMI</th>\n",
                            "      <th>DiabetesPedigreeFunction</th>\n",
                            "      <th>Age</th>\n",
                            "      <th>Outcome</th>\n",
                            "    </tr>\n",
                            "  </thead>\n",
                            "  <tbody>\n",
                            "    <tr>\n",
                            "      <th>0</th>\n",
                            "      <td>6</td>\n",
                            "      <td>148</td>\n",
                            "      <td>72</td>\n",
                            "      <td>35</td>\n",
                            "      <td>0</td>\n",
                            "      <td>33.6</td>\n",
                            "      <td>0.627</td>\n",
                            "      <td>50</td>\n",
                            "      <td>1</td>\n",
                            "    </tr>\n",
                            "    <tr>\n",
                            "      <th>1</th>\n",
                            "      <td>1</td>\n",
                            "      <td>85</td>\n",
                            "      <td>66</td>\n",
                            "      <td>29</td>\n",
                            "      <td>0</td>\n",
                            "      <td>26.6</td>\n",
                            "      <td>0.351</td>\n",
                            "      <td>31</td>\n",
                            "      <td>0</td>\n",
                            "    </tr>\n",
                            "    <tr>\n",
                            "      <th>2</th>\n",
                            "      <td>8</td>\n",
                            "      <td>183</td>\n",
                            "      <td>64</td>\n",
                            "      <td>0</td>\n",
                            "      <td>0</td>\n",
                            "      <td>23.3</td>\n",
                            "      <td>0.672</td>\n",
                            "      <td>32</td>\n",
                            "      <td>1</td>\n",
                            "    </tr>\n",
                            "    <tr>\n",
                            "      <th>3</th>\n",
                            "      <td>1</td>\n",
                            "      <td>89</td>\n",
                            "      <td>66</td>\n",
                            "      <td>23</td>\n",
                            "      <td>94</td>\n",
                            "      <td>28.1</td>\n",
                            "      <td>0.167</td>\n",
                            "      <td>21</td>\n",
                            "      <td>0</td>\n",
                            "    </tr>\n",
                            "    <tr>\n",
                            "      <th>4</th>\n",
                            "      <td>0</td>\n",
                            "      <td>137</td>\n",
                            "      <td>40</td>\n",
                            "      <td>35</td>\n",
                            "      <td>168</td>\n",
                            "      <td>43.1</td>\n",
                            "      <td>2.288</td>\n",
                            "      <td>33</td>\n",
                            "      <td>1</td>\n",
                            "    </tr>\n",
                            "  </tbody>\n",
                            "</table>\n",
                            "</div>"
                        ],
                        "text/plain": [
                            "   Pregnancies  Glucose  BloodPressure  SkinThickness  Insulin   BMI  \\\n",
                            "0            6      148             72             35        0  33.6   \n",
                            "1            1       85             66             29        0  26.6   \n",
                            "2            8      183             64              0        0  23.3   \n",
                            "3            1       89             66             23       94  28.1   \n",
                            "4            0      137             40             35      168  43.1   \n",
                            "\n",
                            "   DiabetesPedigreeFunction  Age  Outcome  \n",
                            "0                     0.627   50        1  \n",
                            "1                     0.351   31        0  \n",
                            "2                     0.672   32        1  \n",
                            "3                     0.167   21        0  \n",
                            "4                     2.288   33        1  "
                        ]
                    },
                    "execution_count": 18,
                    "metadata": {},
                    "output_type": "execute_result"
                }
            ],
            "source": [
                "# Leemos el csv\n",
                "df = pd.read_csv('https://raw.githubusercontent.com/4GeeksAcademy/decision-tree-project-tutorial/main/diabetes.csv')\n",
                "df.head()"
            ]
        },
        {
            "cell_type": "code",
            "execution_count": null,
            "metadata": {},
            "outputs": [],
            "source": [
                "# Split the dataset into features and target variable. Then, we split the data into training and testing sets."
            ]
        },
        {
            "cell_type": "code",
            "execution_count": 19,
            "metadata": {},
            "outputs": [],
            "source": [
                "# Cogemos la variable objetivo para realizar nuestro entrenamiento\n",
                "X = df.drop('Outcome', axis=1)\n",
                "y = df['Outcome']\n",
                "X_train, X_test, y_train, y_test = train_test_split(X, y, test_size=0.2, random_state=42)"
            ]
        },
        {
            "cell_type": "code",
            "execution_count": null,
            "metadata": {},
            "outputs": [],
            "source": [
                "# We build a RandomForest classifier and train it on the training data. Next, we evaluate the model on the test set."
            ]
        },
        {
            "cell_type": "code",
            "execution_count": 25,
            "metadata": {},
            "outputs": [
                {
                    "name": "stdout",
                    "output_type": "stream",
                    "text": [
                        "Accuracy: 0.72\n",
                        "              precision    recall  f1-score   support\n",
                        "\n",
                        "           0       0.79      0.78      0.78        99\n",
                        "           1       0.61      0.62      0.61        55\n",
                        "\n",
                        "    accuracy                           0.72       154\n",
                        "   macro avg       0.70      0.70      0.70       154\n",
                        "weighted avg       0.72      0.72      0.72       154\n",
                        "\n"
                    ]
                }
            ],
            "source": [
                "# Paso 2: Construcción del Random Forest y entrenamiento del modelo\n",
                "rf = RandomForestClassifier(n_estimators=100, random_state=42)\n",
                "rf.fit(X_train, y_train)\n",
                "# Predicción sobre el conjunto de prueba\n",
                "y_pred = rf.predict(X_test)\n",
                "\n",
                "# Evaluación del modelo\n",
                "print(f\"Accuracy: {accuracy_score(y_test, y_pred):.2f}\")\n",
                "print(classification_report(y_test, y_pred))"
            ]
        },
        {
            "cell_type": "code",
            "execution_count": null,
            "metadata": {},
            "outputs": [],
            "source": [
                "#La precisión es 0.72 (o 72%), lo que indica que el modelo predice correctamente alrededor del 72% de las instancias en general.\n",
                "#Para la clase 0, la precisión, la exhaustividad y la puntuación F1 son relativamente altas (alrededor de 0.78–0.79), lo que sugiere que el modelo identifica de manera confiable los casos negativos.\n",
                "#Para la clase 1, las métricas son más bajas (alrededor de 0.61–0.62), lo que indica que el modelo tiene más dificultad para identificar correctamente los casos positivos."
            ]
        },
        {
            "cell_type": "code",
            "execution_count": 26,
            "metadata": {},
            "outputs": [
                {
                    "name": "stdout",
                    "output_type": "stream",
                    "text": [
                        "Mejores Hiperparámetros: {'max_depth': None, 'min_samples_leaf': 1, 'min_samples_split': 5, 'n_estimators': 100}\n",
                        "Mejor Precisión: 0.78\n"
                    ]
                }
            ],
            "source": [
                "# Definimos y analizamos el impacto de hiperparámetros definiendo un diccionario para los valores\n",
                "param_grid = {\n",
                "    'n_estimators': [50, 100, 200],  #Numero de arboles que usara el random ofrerst\n",
                "    'max_depth': [None, 10, 20], # limite de profuncidad\n",
                "    'min_samples_split': [2, 5, 10], # numero minimo de muestras requeridas para dividir un nodo\n",
                "    'min_samples_leaf': [1, 2, 4] # numero minimo de muestras\n",
                "}\n",
                "\n",
                "# Entrenamos mutliples modelos con todas las combinaciones posibles de los hipers\n",
                "grid_search = GridSearchCV(RandomForestClassifier(random_state=42), param_grid, cv=5, scoring='accuracy')\n",
                "grid_search.fit(X_train, y_train)\n",
                "\n",
                "# Mejor modelo encontrado en el anterior\n",
                "best_rf = grid_search.best_estimator_\n",
                "print(f\"Mejores Hiperparámetros: {grid_search.best_params_}\")\n",
                "print(f\"Mejor Precisión: {grid_search.best_score_:.2f}\")"
            ]
        },
        {
            "cell_type": "code",
            "execution_count": 27,
            "metadata": {},
            "outputs": [
                {
                    "name": "stdout",
                    "output_type": "stream",
                    "text": [
                        "Accuracy del Mejor Modelo: 0.73\n",
                        "              precision    recall  f1-score   support\n",
                        "\n",
                        "           0       0.80      0.78      0.79        99\n",
                        "           1       0.62      0.65      0.64        55\n",
                        "\n",
                        "    accuracy                           0.73       154\n",
                        "   macro avg       0.71      0.72      0.71       154\n",
                        "weighted avg       0.74      0.73      0.74       154\n",
                        "\n"
                    ]
                }
            ],
            "source": [
                "# Evaluación del mejor modelo\n",
                "y_pred_best = best_rf.predict(X_test)\n",
                "print(f\"Accuracy del Mejor Modelo: {accuracy_score(y_test, y_pred_best):.2f}\")\n",
                "print(classification_report(y_test, y_pred_best))"
            ]
        },
        {
            "cell_type": "markdown",
            "metadata": {},
            "source": [
                "Aunque la mejora general es modesta, el modelo ajustado con hiperparámetros muestra un equilibrio ligeramente mejor entre precisión y exhaustividad, especialmente para la clase 1. Esto indica que el modelo optimizado es un poco más eficaz en la identificación de casos positivos, lo que puede ser crucial dependiendo del contexto de la aplicación. Sin embargo, se requieren mejoras adicionales."
            ]
        },
        {
            "cell_type": "code",
            "execution_count": 30,
            "metadata": {},
            "outputs": [
                {
                    "data": {
                        "image/png": "[encoded data removed]",
                        "text/plain": [
                            "<Figure size 1000x600 with 1 Axes>"
                        ]
                    },
                    "metadata": {},
                    "output_type": "display_data"
                }
            ],
            "source": [
                "# Visulaziamos la importancia de cada caracteristica generado con el modelo de random forest\n",
                "importances = pd.Series(best_rf.feature_importances_, index=X.columns).sort_values(ascending=False)\n",
                "\n",
                "\n",
                "plt.figure(figsize=(10, 6))\n",
                "sns.barplot(x=importances, y=importances.index)\n",
                "plt.title(\"Importancia de Características en Random Forest\")\n",
                "plt.xlabel(\"Importancia\")\n",
                "plt.ylabel(\"Características\")\n",
                "plt.show()\n"
            ]
        }
    ],
    "metadata": {
        "kernelspec": {
            "display_name": "Python 3",
            "language": "python",
            "name": "python3"
        },
        "language_info": {
            "codemirror_mode": {
                "name": "ipython",
                "version": 3
            },
            "file_extension": ".py",
            "mimetype": "text/x-python",
            "name": "python",
            "nbconvert_exporter": "python",
            "pygments_lexer": "ipython3",
            "version": "3.10.12"
        },
        "orig_nbformat": 4
    },
    "nbformat": 4,
    "nbformat_minor": 2
}
